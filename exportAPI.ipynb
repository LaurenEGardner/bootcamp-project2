{
 "cells": [
  {
   "cell_type": "code",
   "execution_count": 1,
   "metadata": {},
   "outputs": [],
   "source": [
    "# Dependencies\n",
    "import numpy as np\n",
    "import pandas as pd\n",
    "import matplotlib.pyplot as plt\n",
    "import requests\n",
    "import json\n",
    "from census import Census"
   ]
  },
  {
   "cell_type": "code",
   "execution_count": 2,
   "metadata": {},
   "outputs": [],
   "source": [
    "# Census API key\n",
    "from courtCensusKey import censusKey"
   ]
  },
  {
   "cell_type": "code",
   "execution_count": 3,
   "metadata": {},
   "outputs": [],
   "source": [
    "complete_url='https://api.census.gov/data/timeseries/intltrade/exports/hs'+\\\n",
    "            '?get=DISTRICT,DIST_NAME,ALL_VAL_MO,ALL_VAL_YR,E_COMMODITY_SDESC'+\\\n",
    "            '&E_COMMODITY=3926201010'+\\\n",
    "            '&YEAR=2019'+\\\n",
    "            '&MONTH=*'"
   ]
  },
  {
   "cell_type": "code",
   "execution_count": 4,
   "metadata": {},
   "outputs": [
    {
     "data": {
      "text/plain": [
       "<Response [200]>"
      ]
     },
     "execution_count": 4,
     "metadata": {},
     "output_type": "execute_result"
    }
   ],
   "source": [
    "response=requests.get(complete_url)\n",
    "response"
   ]
  },
  {
   "cell_type": "code",
   "execution_count": 5,
   "metadata": {},
   "outputs": [
    {
     "data": {
      "text/html": [
       "<div>\n",
       "<style scoped>\n",
       "    .dataframe tbody tr th:only-of-type {\n",
       "        vertical-align: middle;\n",
       "    }\n",
       "\n",
       "    .dataframe tbody tr th {\n",
       "        vertical-align: top;\n",
       "    }\n",
       "\n",
       "    .dataframe thead th {\n",
       "        text-align: right;\n",
       "    }\n",
       "</style>\n",
       "<table border=\"1\" class=\"dataframe\">\n",
       "  <thead>\n",
       "    <tr style=\"text-align: right;\">\n",
       "      <th></th>\n",
       "      <th>0</th>\n",
       "      <th>1</th>\n",
       "      <th>2</th>\n",
       "      <th>3</th>\n",
       "      <th>4</th>\n",
       "      <th>5</th>\n",
       "      <th>6</th>\n",
       "      <th>7</th>\n",
       "    </tr>\n",
       "  </thead>\n",
       "  <tbody>\n",
       "    <tr>\n",
       "      <th>0</th>\n",
       "      <td>DISTRICT</td>\n",
       "      <td>DIST_NAME</td>\n",
       "      <td>ALL_VAL_MO</td>\n",
       "      <td>ALL_VAL_YR</td>\n",
       "      <td>E_COMMODITY_SDESC</td>\n",
       "      <td>E_COMMODITY</td>\n",
       "      <td>YEAR</td>\n",
       "      <td>MONTH</td>\n",
       "    </tr>\n",
       "    <tr>\n",
       "      <th>1</th>\n",
       "      <td>-</td>\n",
       "      <td>TOTAL FOR ALL DISTRICTS</td>\n",
       "      <td>1109949</td>\n",
       "      <td>1109949</td>\n",
       "      <td>GLOVES,SEAMLESS,SURGICAL &amp; MEDICAL,OF PLASTIC</td>\n",
       "      <td>3926201010</td>\n",
       "      <td>2019</td>\n",
       "      <td>01</td>\n",
       "    </tr>\n",
       "    <tr>\n",
       "      <th>2</th>\n",
       "      <td>07</td>\n",
       "      <td>OGDENSBURG, NY</td>\n",
       "      <td>99903</td>\n",
       "      <td>99903</td>\n",
       "      <td>GLOVES,SEAMLESS,SURGICAL &amp; MEDICAL,OF PLASTIC</td>\n",
       "      <td>3926201010</td>\n",
       "      <td>2019</td>\n",
       "      <td>01</td>\n",
       "    </tr>\n",
       "    <tr>\n",
       "      <th>3</th>\n",
       "      <td>09</td>\n",
       "      <td>BUFFALO, NY</td>\n",
       "      <td>237669</td>\n",
       "      <td>237669</td>\n",
       "      <td>GLOVES,SEAMLESS,SURGICAL &amp; MEDICAL,OF PLASTIC</td>\n",
       "      <td>3926201010</td>\n",
       "      <td>2019</td>\n",
       "      <td>01</td>\n",
       "    </tr>\n",
       "    <tr>\n",
       "      <th>4</th>\n",
       "      <td>11</td>\n",
       "      <td>PHILADELPHIA, PA</td>\n",
       "      <td>2852</td>\n",
       "      <td>2852</td>\n",
       "      <td>GLOVES,SEAMLESS,SURGICAL &amp; MEDICAL,OF PLASTIC</td>\n",
       "      <td>3926201010</td>\n",
       "      <td>2019</td>\n",
       "      <td>01</td>\n",
       "    </tr>\n",
       "    <tr>\n",
       "      <th>...</th>\n",
       "      <td>...</td>\n",
       "      <td>...</td>\n",
       "      <td>...</td>\n",
       "      <td>...</td>\n",
       "      <td>...</td>\n",
       "      <td>...</td>\n",
       "      <td>...</td>\n",
       "      <td>...</td>\n",
       "    </tr>\n",
       "    <tr>\n",
       "      <th>330</th>\n",
       "      <td>49</td>\n",
       "      <td>SAN JUAN, PR</td>\n",
       "      <td>72819</td>\n",
       "      <td>519368</td>\n",
       "      <td>GLOVES,SEAMLESS,SURGICAL &amp; MEDICAL,OF PLASTIC</td>\n",
       "      <td>3926201010</td>\n",
       "      <td>2019</td>\n",
       "      <td>12</td>\n",
       "    </tr>\n",
       "    <tr>\n",
       "      <th>331</th>\n",
       "      <td>52</td>\n",
       "      <td>MIAMI, FL</td>\n",
       "      <td>67122</td>\n",
       "      <td>1557770</td>\n",
       "      <td>GLOVES,SEAMLESS,SURGICAL &amp; MEDICAL,OF PLASTIC</td>\n",
       "      <td>3926201010</td>\n",
       "      <td>2019</td>\n",
       "      <td>12</td>\n",
       "    </tr>\n",
       "    <tr>\n",
       "      <th>332</th>\n",
       "      <td>53</td>\n",
       "      <td>HOUSTON-GALVESTON, TX</td>\n",
       "      <td>0</td>\n",
       "      <td>39082</td>\n",
       "      <td>GLOVES,SEAMLESS,SURGICAL &amp; MEDICAL,OF PLASTIC</td>\n",
       "      <td>3926201010</td>\n",
       "      <td>2019</td>\n",
       "      <td>12</td>\n",
       "    </tr>\n",
       "    <tr>\n",
       "      <th>333</th>\n",
       "      <td>55</td>\n",
       "      <td>DALLAS-FORT WORTH, TX</td>\n",
       "      <td>0</td>\n",
       "      <td>82464</td>\n",
       "      <td>GLOVES,SEAMLESS,SURGICAL &amp; MEDICAL,OF PLASTIC</td>\n",
       "      <td>3926201010</td>\n",
       "      <td>2019</td>\n",
       "      <td>12</td>\n",
       "    </tr>\n",
       "    <tr>\n",
       "      <th>334</th>\n",
       "      <td>70</td>\n",
       "      <td>LOW VALUE</td>\n",
       "      <td>45710</td>\n",
       "      <td>585496</td>\n",
       "      <td>GLOVES,SEAMLESS,SURGICAL &amp; MEDICAL,OF PLASTIC</td>\n",
       "      <td>3926201010</td>\n",
       "      <td>2019</td>\n",
       "      <td>12</td>\n",
       "    </tr>\n",
       "  </tbody>\n",
       "</table>\n",
       "<p>335 rows × 8 columns</p>\n",
       "</div>"
      ],
      "text/plain": [
       "            0                        1           2           3  \\\n",
       "0    DISTRICT                DIST_NAME  ALL_VAL_MO  ALL_VAL_YR   \n",
       "1           -  TOTAL FOR ALL DISTRICTS     1109949     1109949   \n",
       "2          07           OGDENSBURG, NY       99903       99903   \n",
       "3          09              BUFFALO, NY      237669      237669   \n",
       "4          11         PHILADELPHIA, PA        2852        2852   \n",
       "..        ...                      ...         ...         ...   \n",
       "330        49             SAN JUAN, PR       72819      519368   \n",
       "331        52                MIAMI, FL       67122     1557770   \n",
       "332        53    HOUSTON-GALVESTON, TX           0       39082   \n",
       "333        55    DALLAS-FORT WORTH, TX           0       82464   \n",
       "334        70                LOW VALUE       45710      585496   \n",
       "\n",
       "                                                 4            5     6      7  \n",
       "0                                E_COMMODITY_SDESC  E_COMMODITY  YEAR  MONTH  \n",
       "1    GLOVES,SEAMLESS,SURGICAL & MEDICAL,OF PLASTIC   3926201010  2019     01  \n",
       "2    GLOVES,SEAMLESS,SURGICAL & MEDICAL,OF PLASTIC   3926201010  2019     01  \n",
       "3    GLOVES,SEAMLESS,SURGICAL & MEDICAL,OF PLASTIC   3926201010  2019     01  \n",
       "4    GLOVES,SEAMLESS,SURGICAL & MEDICAL,OF PLASTIC   3926201010  2019     01  \n",
       "..                                             ...          ...   ...    ...  \n",
       "330  GLOVES,SEAMLESS,SURGICAL & MEDICAL,OF PLASTIC   3926201010  2019     12  \n",
       "331  GLOVES,SEAMLESS,SURGICAL & MEDICAL,OF PLASTIC   3926201010  2019     12  \n",
       "332  GLOVES,SEAMLESS,SURGICAL & MEDICAL,OF PLASTIC   3926201010  2019     12  \n",
       "333  GLOVES,SEAMLESS,SURGICAL & MEDICAL,OF PLASTIC   3926201010  2019     12  \n",
       "334  GLOVES,SEAMLESS,SURGICAL & MEDICAL,OF PLASTIC   3926201010  2019     12  \n",
       "\n",
       "[335 rows x 8 columns]"
      ]
     },
     "execution_count": 5,
     "metadata": {},
     "output_type": "execute_result"
    }
   ],
   "source": [
    "pd.DataFrame(response.json())"
   ]
  },
  {
   "cell_type": "code",
   "execution_count": 6,
   "metadata": {},
   "outputs": [],
   "source": [
    "#Setting variables \n",
    "year='2019'\n",
    "month='*'\n",
    "cols='DISTRICT,DIST_NAME,ALL_VAL_MO,ALL_VAL_YR,E_COMMODITY_SDESC'\n"
   ]
  },
  {
   "cell_type": "code",
   "execution_count": null,
   "metadata": {},
   "outputs": [],
   "source": [
    "#Base URL \n",
    "base_url = 'https://api.census.gov/data/timeseries/intltrade/exports/hs'\n",
    "\n",
    "complete_url = f'{base_url}?get={cols}&YEAR={year}&MONTH={month}'\n",
    "\n",
    "# HTS Codes and what they represent\n",
    "# 0901 - Coffee\n",
    "# 480300 - Toilet Paper\n",
    "# 2203 - Beer\n",
    "# 2204 - Wine\n",
    "# Hard alcohol - 2207\n",
    "\n",
    "# Items in US top Exports\n",
    "# Medical Equipment - $83 billion\n",
    "# Plastics - $60 billion\n",
    "# Pharmaceuticals - $47 billion\n",
    "    # 3002 - Vaccines, Blood, and Immunological products\n",
    "    # 3003 - Medication (unmeasured doses)\n",
    "    # 3004 - Medication (measured doses)\n",
    "    # 3005 - Medically-treated Bandages\n",
    "    # 3006 - Surgical Equipment\n",
    "# Organic chemicals - $39 billion\n",
    "\n",
    "hts_list=['3002','3003','3004','3005','3006']\n",
    "df_list=[]\n",
    "\n",
    "for each_hts in hts_list:\n",
    "    hts_code=each_hts\n",
    "    query_params={\n",
    "        'get': 'CTY_CODE,CTY_NAME,DF,DISTRICT,DIST_NAME,ALL_VAL_MO,ALL_VAL_YR,E_COMMODITY_SDESC',\n",
    "        'E_COMMODITY': hts_code,\n",
    "        'YEAR': '2019',\n",
    "        'MONTH': \"*\"\n",
    "    }\n",
    "    max_response=requests.get(base_url, params=query_params)\n",
    "    #print(max_response.json())\n",
    "    df_list.append(max_response.json()[1:])\n",
    "#print(df_list)"
   ]
  },
  {
   "cell_type": "code",
   "execution_count": null,
   "metadata": {},
   "outputs": [],
   "source": [
    "productList = []\n",
    "for product in df_list:\n",
    "    productList += product"
   ]
  },
  {
   "cell_type": "code",
   "execution_count": null,
   "metadata": {},
   "outputs": [],
   "source": [
    "exportData = pd.DataFrame(productList, columns=max_response.json()[0])\n",
    "exportData"
   ]
  },
  {
   "cell_type": "code",
   "execution_count": null,
   "metadata": {},
   "outputs": [],
   "source": [
    "exportData['E_COMMODITY_SDESC'].unique()"
   ]
  },
  {
   "cell_type": "code",
   "execution_count": null,
   "metadata": {},
   "outputs": [],
   "source": [
    "# Clean up column names\n",
    "exportData = exportData.rename(columns={\"CTY_CODE\": \"COUNTRY_CODE\", \"CTY_NAME\": \"COUNTRY_NAME\", \"DF\": \"DOMESTIC_FOREIGN_CODE\", \"DIST_NAME\": \"DISTRICT_NAME\", \"ALL_VAL_MO\": \"ALL_VALUES_MONTH\", \"ALL_VAL_YR\": \"ALL_VALUES_YEAR\", \"E_COMMODITY_SDESC\": \"COMMODITY_DESCRIPTION\", \"E_COMMODITY\": \"COMMODITY\"})"
   ]
  },
  {
   "cell_type": "code",
   "execution_count": null,
   "metadata": {},
   "outputs": [],
   "source": [
    "# Clean up commodity names\n",
    "exportData.loc[(exportData.COMMODITY_DESCRIPTION == 'HUMAN BLOOD; ANIMAL BLOO'), 'COMMODITY_DESCRIPTION'] = 'Vaccines, Blood, and Immunological products'\n",
    "exportData.loc[(exportData.COMMODITY_DESCRIPTION == 'MEDICAMENTS NESOI OF MIXTU'), 'COMMODITY_DESCRIPTION'] = 'Medication (unmeasured doses)'\n",
    "exportData.loc[(exportData.COMMODITY_DESCRIPTION == 'MEDICAMENTS NESOI, MIXED O'), 'COMMODITY_DESCRIPTION'] = 'Medication (measured doses)'\n",
    "exportData.loc[(exportData.COMMODITY_DESCRIPTION == 'BANDAGES ETC COATED ETC OR'), 'COMMODITY_DESCRIPTION'] = 'Medically-Treated Bandages'\n",
    "exportData.loc[(exportData.COMMODITY_DESCRIPTION == 'PHARMACEUTICAL GOODS IN NOTE 4 TO CHAPTER 30'), 'COMMODITY_DESCRIPTION'] = 'Surgical Equipment'\n",
    "exportData"
   ]
  },
  {
   "cell_type": "code",
   "execution_count": null,
   "metadata": {},
   "outputs": [],
   "source": [
    "# Create table with only totals for visualization\n",
    "totalExportData = exportData[(exportData['COUNTRY_NAME'] == \"TOTAL FOR ALL COUNTRIES\") & (exportData['DISTRICT_NAME'] == \"TOTAL FOR ALL DISTRICTS\")]\n",
    "# Create charts with removed totals so they won't skew numbers\n",
    "exportData = exportData[exportData['COUNTRY_NAME'] != \"TOTAL FOR ALL COUNTRIES\"]\n",
    "exportData = exportData[exportData['DISTRICT_NAME'] != \"TOTAL FOR ALL DISTRICTS\"]\n",
    "exportData"
   ]
  },
  {
   "cell_type": "code",
   "execution_count": null,
   "metadata": {},
   "outputs": [],
   "source": [
    "# Save as a csv\n",
    "# Using encoding=\"utf-8\" to avoid issues later\n",
    "exportData.to_csv(\"Resources/exportData2019.csv\", encoding=\"utf-8\", index=False)\n",
    "totalExportData.to_csv(\"Resources/totalExportData2019.csv\", encoding=\"utf-8\", index=False)"
   ]
  },
  {
   "cell_type": "code",
   "execution_count": null,
   "metadata": {},
   "outputs": [],
   "source": []
  }
 ],
 "metadata": {
  "kernelspec": {
   "display_name": "Python 3",
   "language": "python",
   "name": "python3"
  },
  "language_info": {
   "codemirror_mode": {
    "name": "ipython",
    "version": 3
   },
   "file_extension": ".py",
   "mimetype": "text/x-python",
   "name": "python",
   "nbconvert_exporter": "python",
   "pygments_lexer": "ipython3",
   "version": "3.8.3"
  }
 },
 "nbformat": 4,
 "nbformat_minor": 4
}
